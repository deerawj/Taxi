{
 "cells": [
  {
   "cell_type": "code",
   "execution_count": 1,
   "metadata": {},
   "outputs": [],
   "source": [
    "import random\n",
    "import string\n",
    "from requests import post\n",
    "\n",
    "random_string = lambda :''.join(random.choice(string.ascii_uppercase + string.digits) for _ in range(10))\n",
    "\n",
    "# makes a POST request to /admin with username and password and checks if the status code is 200\n",
    "def check_admin(username, password):\n",
    "    data = {'username': username, 'password': password}\n",
    "    r = post('http://localhost:8080/admin', data=data)\n",
    "    if r.status_code == 200:\n",
    "        return True\n",
    "    else:\n",
    "        return False"
   ]
  },
  {
   "cell_type": "code",
   "execution_count": 2,
   "metadata": {},
   "outputs": [],
   "source": []
  },
  {
   "cell_type": "code",
   "execution_count": 3,
   "metadata": {},
   "outputs": [],
   "source": [
    "# test case with correct username and password\n",
    "assert check_admin('admin', 'password') == True\n",
    "\n",
    "# test case with incorrect username with correct password\n",
    "assert check_admin('admin1', 'password') == False\n",
    "\n",
    "# test case with correct username with incorrect password\n",
    "assert check_admin('admin', 'password1') == False\n",
    "\n",
    "# test case with incorrect username and password\n",
    "assert check_admin('admin1', 'password1') == False\n",
    "\n",
    "# test case with empty username and password\n",
    "assert check_admin('', '') == False\n",
    "\n",
    "# test case with empty username and correct password\n",
    "assert check_admin('', 'password') == False\n",
    "\n",
    "# test case with correct username and empty password\n",
    "assert check_admin('admin', '') == False\n",
    "\n",
    "# test case with random username and password\n",
    "for i in range(10**6):\n",
    "    username, password = random_string(), random_string()\n",
    "    if username == 'admin' and password == 'password':\n",
    "        assert check_admin(username, password) == True\n",
    "    assert check_admin(username, password) == False"
   ]
  },
  {
   "cell_type": "code",
   "execution_count": null,
   "metadata": {},
   "outputs": [],
   "source": [
    "# test case with extremely long username and password\n",
    "username, password = random_string()*10**6, random_string()*10**6\n",
    "assert check_admin(username, password) == False"
   ]
  }
 ],
 "metadata": {
  "kernelspec": {
   "display_name": "venv",
   "language": "python",
   "name": "python3"
  },
  "language_info": {
   "codemirror_mode": {
    "name": "ipython",
    "version": 3
   },
   "file_extension": ".py",
   "mimetype": "text/x-python",
   "name": "python",
   "nbconvert_exporter": "python",
   "pygments_lexer": "ipython3",
   "version": "3.10.12"
  }
 },
 "nbformat": 4,
 "nbformat_minor": 2
}
